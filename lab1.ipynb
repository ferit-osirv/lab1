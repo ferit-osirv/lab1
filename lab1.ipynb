{
  "nbformat": 4,
  "nbformat_minor": 0,
  "metadata": {
    "colab": {
      "name": "lab1.ipynb",
      "provenance": [],
      "authorship_tag": "ABX9TyOpRerxL18b7vaYr2UBXcrA",
      "include_colab_link": true
    },
    "kernelspec": {
      "name": "python3",
      "display_name": "Python 3"
    },
    "language_info": {
      "name": "python"
    }
  },
  "cells": [
    {
      "cell_type": "markdown",
      "metadata": {
        "id": "view-in-github",
        "colab_type": "text"
      },
      "source": [
        "<a href=\"https://colab.research.google.com/github/ferit-osirv/lab1/blob/main/lab1.ipynb\" target=\"_parent\"><img src=\"https://colab.research.google.com/assets/colab-badge.svg\" alt=\"Open In Colab\"/></a>"
      ]
    },
    {
      "cell_type": "markdown",
      "metadata": {
        "id": "e8vtuqXEBP1j"
      },
      "source": [
        "# Lab 1 - Python, Google Colab, Slike\n",
        "\n",
        "Ove laboratorijske vježbe se rješavaju u Google Colabu i spremaju na GitHub repozitorij koji je povezan na GitHub Classroom.\n",
        "\n",
        "## Alati koje koristite za predavanje zadataka\n",
        "\n",
        "U ovom dokumentu ćete rješavati zadatke. Ovo je **Jupyter Notebook** i ima ekstenziju **.ipynb**, interaktivno web okruženje za analizu podataka, vizualizaciju, prikaze rješenja, edukaciju i sl. \n",
        "\n",
        "**Google Colab** je alat pomoću kojega možete pokretati i dijeliti Jupyter Notebook datoteke na Googleovim serverima, uključujući i korištenje Googleovih CPU, GPU i TPU resursa. Colab je kao Google Docs za Jupyter Notebook. **Google Colab ne sprema vašu zadaću na GitHub automatski.**\n",
        "\n",
        "**GitHub koristite za spremanje i predavanje vaše zadaće.** Kad prihvatite zadatak preko GitHub classroom, automatski vam se kreira repozitorij na vašem GitHub računu s kopijom zadatka. Tamo ćete spremiti vaša rješenja. Spremanjem rješenja predajete zadatke tog labosa.\n",
        "\n",
        "## Kako riješiti zadatke?\n",
        "\n",
        "1. Prihvatite zadatak putem Google Classroom linka kojeg ćete dobiti. Google Classroom će kreirati repozitorij na vašen računu.\n",
        "2. Uđite u novokreiran repozitorij na vašem računu u kliknite na **.ipynb** datoteku i otvorite je u **Google Colabu**.\n",
        "3. Zadatke rješavate u Google Colabu.\n",
        "\n",
        "## Kako spremiti (predati) zadatke?\n",
        "\n",
        "1. Unutar **Google Colaba** kliknite na **Open settings** kotačić u gornjem desnom kutu.\n",
        "2. Kliknite na **GitHub** tab i odaberite kvačicu za **Access private repositories and organizations**.\n",
        "3. Izađite iz postavki.\n",
        "4. Kliknite na **File > Save a copy in GitHub**.\n",
        "\n",
        "Korake 1-3 morate napraviti samo prvi put.\n",
        "\n",
        "Za više informacija o Pythonu pogledajte README datoteku na GitHubu."
      ]
    }
  ]
}