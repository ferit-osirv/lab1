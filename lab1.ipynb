{
  "nbformat": 4,
  "nbformat_minor": 0,
  "metadata": {
    "colab": {
      "name": "lab1.ipynb",
      "provenance": [],
      "authorship_tag": "ABX9TyP2r9BVD/+ktGAWAXIJrzAM",
      "include_colab_link": true
    },
    "kernelspec": {
      "name": "python3",
      "display_name": "Python 3"
    },
    "language_info": {
      "name": "python"
    }
  },
  "cells": [
    {
      "cell_type": "markdown",
      "metadata": {
        "id": "view-in-github",
        "colab_type": "text"
      },
      "source": [
        "<a href=\"https://colab.research.google.com/github/ferit-osirv/lab1/blob/main/lab1.ipynb\" target=\"_parent\"><img src=\"https://colab.research.google.com/assets/colab-badge.svg\" alt=\"Open In Colab\"/></a>"
      ]
    },
    {
      "cell_type": "markdown",
      "metadata": {
        "id": "e8vtuqXEBP1j"
      },
      "source": [
        "# Lab 1 - Python, Google Colab, Slike\n",
        "\n",
        "Ove laboratorijske vježbe se rješavaju u Google Colabu i spremaju na GitHub repozitorij koji je povezan na GitHub Classroom.\n",
        "\n",
        "## Alati koje koristite za predavanje zadataka\n",
        "\n",
        "U ovom dokumentu ćete rješavati zadatke. Ovo je **Jupyter Notebook** i ima ekstenziju **.ipynb**, interaktivno web okruženje za analizu podataka, vizualizaciju, prikaze rješenja, edukaciju i sl. \n",
        "\n",
        "**Google Colab** je alat pomoću kojega možete pokretati i dijeliti Jupyter Notebook datoteke na Googleovim serverima, uključujući i korištenje Googleovih CPU, GPU i TPU resursa. Colab je kao Google Docs za Jupyter Notebook. **Google Colab ne sprema vašu zadaću na GitHub automatski.**\n",
        "\n",
        "**GitHub koristite za spremanje i predavanje vaše zadaće.** Kad prihvatite zadatak preko GitHub classroom, automatski vam se kreira repozitorij na vašem GitHub računu s kopijom zadatka. Tamo ćete spremiti vaša rješenja. Spremanjem rješenja predajete zadatke tog labosa.\n",
        "\n",
        "## Kako riješiti zadatke?\n",
        "\n",
        "1. Prihvatite zadatak putem Google Classroom linka koji ćete dobiti. Google Classroom će kreirati repozitorij na vašem računu.\n",
        "2. Uđite u novokreiran repozitorij na vašem računu u kliknite na **.ipynb** datoteku, zatim kliknite **Open in Colab**.\n",
        "3. Zadatke rješavate u Google Colabu.\n",
        "\n",
        "## Kako spremiti (predati) zadatke?\n",
        "\n",
        "1. Unutar **Google Colaba** kliknite na **Open settings** kotačić u gornjem desnom kutu.\n",
        "2. Kliknite na **GitHub** tab i odaberite kvačicu za **Access private repositories and organizations**.\n",
        "3. Otvorit će se novi prozor da dodate pristup GitHubu. Kod **ferit-osirv** kliknite **Grant**.  \n",
        "4. Spremite i izađite iz postavki.\n",
        "\n",
        "\n",
        "5. Kliknite na **File > Save a copy in GitHub**.\n",
        "6. Odaberite kreiran repozitorij labosa **koji uključuje vaše ime**.\n",
        "\n",
        "> *Napomena:* Korake 1-4 morate napraviti samo prvi put."
      ]
    },
    {
      "cell_type": "markdown",
      "metadata": {
        "id": "tlt9F0--QgIC"
      },
      "source": [
        "# Uvod u Jupyter Notebook\n",
        "\n",
        "Jupyter Notebook sastoji se od dva tipa blokova: tekst i kod. Trenutno čitate tekstualni blok koji može sadržavati tekst, markdown ili HTML. Koristan je za dodavanje više informacija o vašem kodu, tako da se može čitati kao bilježnica, odakle i dolazi naziv Jupyter Notebook.\n",
        "\n",
        "Kodni blokovi sadrže Python kod ili naredbe komandne linije. "
      ]
    },
    {
      "cell_type": "code",
      "metadata": {
        "colab": {
          "base_uri": "https://localhost:8080/",
          "height": 37
        },
        "id": "GjI2lX1EPUqK",
        "outputId": "805dd757-013b-4ed3-c0dc-a2cebb501066"
      },
      "source": [
        "text = \"Vaš kod pišete u kodne blokove kao što je ovaj\"\n",
        "# Ovi kodni blokovi će uvijek ispisati rezultat zadnje linije koda ispod bloka\n",
        "text"
      ],
      "execution_count": null,
      "outputs": [
        {
          "output_type": "execute_result",
          "data": {
            "application/vnd.google.colaboratory.intrinsic+json": {
              "type": "string"
            },
            "text/plain": [
              "'Vaš kod pišete u kodne blokove kao što je ovaj'"
            ]
          },
          "metadata": {},
          "execution_count": 12
        }
      ]
    },
    {
      "cell_type": "markdown",
      "metadata": {
        "id": "bZe57cDBRCE7"
      },
      "source": [
        "Kodne blokove možete izvršiti tako da ih odaberete mišem i stisnete play tipku u gornjem lijevom kutu bloka. Također možete izvršiti blok i prijeći na drugi prečacem **Shift+Enter**. **Control+Enter** će izvesti trenutni blok i ostaviti ga označenog.\n",
        "\n",
        "Ispis kodnih blokova nalazi se ispod bloka. On može sadržavati ispise putem `print` funkcije te grafove i slike korištenjem biblioteka kao što su OpenCV ili matplotlib.\n",
        "\n",
        "Također, rezultat zadnje linije se uvijek ispisuje na kraju ispisa.\n",
        "\n",
        "Slobodno se igrajte kodnim blokovima i uređujte ovaj notebook kako god želite!\n",
        "\n",
        "**Za još savjeta** pogledajte sljedeći notebook: https://colab.research.google.com/notebooks/basic_features_overview.ipynb"
      ]
    },
    {
      "cell_type": "markdown",
      "metadata": {
        "id": "o5DM9UScViXU"
      },
      "source": [
        "## Red izvođenja\n",
        "\n",
        "Bitno je zapamtiti da se blokovi izvode redom kojim ih vi izvodite. Npr. pogledajte sljedeća 3 bloka:"
      ]
    },
    {
      "cell_type": "code",
      "metadata": {
        "id": "fYQ36HP5VwOX"
      },
      "source": [
        "a = 3 # Blok 1"
      ],
      "execution_count": null,
      "outputs": []
    },
    {
      "cell_type": "code",
      "metadata": {
        "id": "EhVqiFS2VxDp"
      },
      "source": [
        "a = 2 # Blok 2"
      ],
      "execution_count": null,
      "outputs": []
    },
    {
      "cell_type": "code",
      "metadata": {
        "colab": {
          "base_uri": "https://localhost:8080/"
        },
        "id": "tPhu-8R5VxpF",
        "outputId": "8203f75e-148c-4372-e2c6-342eada0692c"
      },
      "source": [
        "a # Blok 3"
      ],
      "execution_count": null,
      "outputs": [
        {
          "output_type": "execute_result",
          "data": {
            "text/plain": [
              "2"
            ]
          },
          "metadata": {},
          "execution_count": 15
        }
      ]
    },
    {
      "cell_type": "markdown",
      "metadata": {
        "id": "hmBrMmukV1aG"
      },
      "source": [
        "Probajte izvesti prvo blok 2, zatim blok 1 i onda blok 3. Primijetit ćete da se ispis bloka 3 mijenja, zato što je blok 1 izveden i `a` je postavljen na novu vrijednost. Ovo ponašanje može dovesti do bugova u kodu. Zbog toga je dobra praksa povremeno ali pogotovo **prije predaje** izvršiti još jednom sve blokove redom. To možete napraviti klikom na **Runtime > Run all** ili tipkom **F9**."
      ]
    },
    {
      "cell_type": "markdown",
      "metadata": {
        "id": "8pVjDTjqWayF"
      },
      "source": [
        "## Uvođenje (import) biblioteka\n",
        "\n",
        "Za izradu laboratorijskih vježbi trebat će vam razne biblioteke kao što su numpy, OpenCV, matplotlib i sl. Dobra je praksa **na početku** notebooka imati **zaseban blok** za uvođenje svih biblioteka koje će biti potrebne za izvođenje. Primjer:"
      ]
    },
    {
      "cell_type": "code",
      "metadata": {
        "id": "EXS_YJC2WsWD"
      },
      "source": [
        "import numpy as np\n",
        "import cv2 as cv\n",
        "import matplotlib.pyplot as plot"
      ],
      "execution_count": null,
      "outputs": []
    },
    {
      "cell_type": "markdown",
      "metadata": {
        "id": "-iB2rlmOWyZb"
      },
      "source": [
        "Tako ćete osigurati da je taj blok uvijek izveden i sve biblioteke su učitane. Također, jednom kad su te biblioteke učitanje Google Colab će vam nuditi prijedloge (auto-complete) dok pišete, što će vam znatno olakšati rad."
      ]
    },
    {
      "cell_type": "markdown",
      "metadata": {
        "id": "rRuk6Bc8PgF8"
      },
      "source": [
        "# Uvod u Python, Numpy i OpenCV\n",
        "\n",
        "U ovim vježbama ćete se upoznati s osnovama Pythona. Pogledajte **README** datoteku na GitHub repozitoriju za uvod u Python, pregled sintakse i linkove na dodatnu literaturu.\n",
        "\n",
        "## Zadaci\n",
        "\n",
        "Unutar ovog Jupyter Notebooka riješite sljedeće zadatke, tako da je rezultat svakog zadatka vidljiv ispod kodnog bloka. **Dodajte barem jedan kodni blok za svaki zadatak.**\n",
        "\n",
        "1. Napisati program koji će učitati sliku i spremiti tri odvojene slike, po jednu za svaki kanal. Nazvati ih crvena.jpg, plava.jpg i zelena.jpg. (Hint: Pri snimanju jednog kanala, postaviti druga dva kanala na 0)\n",
        "\n",
        "2. Isti zadatak kao 1., ali kanale prikazati na ekranu koristeći imshow().\n",
        "\n",
        "3. Napisati program koji će učitati sliku i napraviti oko učitane slike obrub debljine 10 piksela. Takvu sliku spremiti.\n",
        "\n",
        "4. Napisati program koji će učitati sliku, te iz te slike napraviti tri slike. Prva će imati dvostruko manje vertikalnih piksela od originala (redova), druga će imati dvostruko manje horizontalnih piksela od originala (stupaca), a treća će imati dvostruko manje i jednih i drugih. (Hint: uzimate svaki drugi piksel)\n"
      ]
    },
    {
      "cell_type": "code",
      "metadata": {
        "id": "az7fSs7oOHIq"
      },
      "source": [
        "import cv2 as cv\n",
        "import matplotlib.pyplot as plt"
      ],
      "execution_count": null,
      "outputs": []
    },
    {
      "cell_type": "code",
      "metadata": {
        "id": "m5b5VJnlXJHf"
      },
      "source": [
        "# korisne funkcije:\n",
        "def imread_rgb(file):\n",
        "  image = cv.imread(file)\n",
        "  rgb = cv.cvtColor(image, cv.COLOR_BGR2RGB)\n",
        "  return rgb\n",
        "\n",
        "def imread_grayscale(file):\n",
        "  image = cv.imread(file, cv.IMREAD_GRAYSCALE)\n",
        "  return image\n",
        "\n",
        "def show_image(image):\n",
        "  plt.imshow(image)"
      ],
      "execution_count": 5,
      "outputs": []
    },
    {
      "cell_type": "code",
      "metadata": {
        "id": "ZPPKOVP6OAxW"
      },
      "source": [
        ""
      ],
      "execution_count": null,
      "outputs": []
    }
  ]
}